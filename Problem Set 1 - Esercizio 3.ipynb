{
 "cells": [
  {
   "cell_type": "code",
   "execution_count": 1,
   "metadata": {},
   "outputs": [],
   "source": [
    "def maxsubarray(A):\n",
    "    massimo = max(A)\n",
    "    n = len(A) - 1\n",
    "    i = 0\n",
    "    i_ = 0\n",
    "    j = n\n",
    "    j_ = n\n",
    "    \n",
    "    while( i < j ):\n",
    "        tot = 0;\n",
    "        \n",
    "        while( tot >= 0 and i_ < n ):\n",
    "            tot += A[i_]\n",
    "            massimo = max( tot, massimo )\n",
    "            i_ += 1\n",
    "        \n",
    "        i = i_\n",
    "        tot = 0\n",
    "        \n",
    "        while( tot >= 0 and j_ >= 0 ):\n",
    "            tot += A[j_]\n",
    "            massimo = max( tot, massimo )\n",
    "            j_ -= 1\n",
    "        \n",
    "        j = j_\n",
    "    \n",
    "    return massimo\n",
    "            \n",
    "        \n",
    "    "
   ]
  },
  {
   "cell_type": "code",
   "execution_count": 11,
   "metadata": {},
   "outputs": [],
   "source": [
    "def maxsubarray2(A):\n",
    "    massimo = max(A)\n",
    "    n = len(A) \n",
    "    i = 0\n",
    "    i_ = 0\n",
    "    \n",
    "    while( i < n ):\n",
    "        tot = 0;\n",
    "        \n",
    "        while( tot >= 0 and i_ < n ):\n",
    "            tot += A[i_]\n",
    "            massimo = max( tot, massimo )\n",
    "            i_ += 1\n",
    "            print(tot)\n",
    "        \n",
    "        i = i_\n",
    "    \n",
    "    return massimo"
   ]
  },
  {
   "cell_type": "code",
   "execution_count": 16,
   "metadata": {},
   "outputs": [
    {
     "name": "stdout",
     "output_type": "stream",
     "text": [
      "-10\n",
      "30\n",
      "40\n",
      "30\n",
      "10\n",
      "110\n",
      "110\n",
      "110\n"
     ]
    }
   ],
   "source": [
    "a = [-10,30,10,-10,-20,100,0]\n",
    "print(maxsubarray2(a))"
   ]
  },
  {
   "cell_type": "code",
   "execution_count": null,
   "metadata": {},
   "outputs": [],
   "source": []
  }
 ],
 "metadata": {
  "kernelspec": {
   "display_name": "Python 3",
   "language": "python",
   "name": "python3"
  },
  "language_info": {
   "codemirror_mode": {
    "name": "ipython",
    "version": 3
   },
   "file_extension": ".py",
   "mimetype": "text/x-python",
   "name": "python",
   "nbconvert_exporter": "python",
   "pygments_lexer": "ipython3",
   "version": "3.8.5"
  }
 },
 "nbformat": 4,
 "nbformat_minor": 4
}
