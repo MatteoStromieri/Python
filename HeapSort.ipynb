{
 "cells": [
  {
   "cell_type": "code",
   "execution_count": 8,
   "metadata": {},
   "outputs": [],
   "source": [
    "#getBigger(vertix, Heap); Il più grande dei figli\n",
    "def getBigger(v,H):\n",
    "        if 2*v+1 <= H[0]:\n",
    "            if H[2*v] > H[2*v + 1]:\n",
    "                return 2*v\n",
    "            else:\n",
    "                return 2*v + 1\n",
    "        elif 2*v <= H[0]:\n",
    "            return 2*v\n",
    "\n",
    "\n",
    "#FixHeap\n",
    "def FixHeap(v,H):\n",
    "        if 2*v <= H[0] or 2*v + 1 <= H[0] :\n",
    "            u = getBigger(v, H)\n",
    "            if H[v] < H[u] :\n",
    "                H[u],H[v] = H[v],H[u]\n",
    "                FixHeap(u,H)\n",
    "            \n",
    "    "
   ]
  },
  {
   "cell_type": "code",
   "execution_count": 9,
   "metadata": {},
   "outputs": [],
   "source": [
    "#Heapify per la costruzione dell'heap\n",
    "def Heapify(v,H):\n",
    "    if 2*v <= H[0]:\n",
    "        Heapify(2*v , H)\n",
    "        Heapify(2*v + 1 , H)\n",
    "        FixHeap(v,H)\n",
    "\n",
    "  "
   ]
  },
  {
   "cell_type": "code",
   "execution_count": 10,
   "metadata": {},
   "outputs": [],
   "source": [
    "def HeapSort(H):\n",
    "    Heapify(1,H);\n",
    "    for i in range(H[0], 1, -1):\n",
    "        H[1],H[i] = H[i],H[1]\n",
    "        H[0] = H[0] - 1\n",
    "        FixHeap(1,H)\n",
    "    "
   ]
  }
 ],
 "metadata": {
  "kernelspec": {
   "display_name": "Python 3 (ipykernel)",
   "language": "python",
   "name": "python3"
  },
  "language_info": {
   "codemirror_mode": {
    "name": "ipython",
    "version": 3
   },
   "file_extension": ".py",
   "mimetype": "text/x-python",
   "name": "python",
   "nbconvert_exporter": "python",
   "pygments_lexer": "ipython3",
   "version": "3.9.7"
  }
 },
 "nbformat": 4,
 "nbformat_minor": 4
}
